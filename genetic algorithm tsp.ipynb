{
 "cells": [
  {
   "cell_type": "code",
   "execution_count": 7,
   "metadata": {},
   "outputs": [],
   "source": [
    "import random"
   ]
  },
  {
   "cell_type": "markdown",
   "metadata": {},
   "source": [
    "# Travelling Salesman problem\n"
   ]
  },
  {
   "cell_type": "markdown",
   "metadata": {},
   "source": [
    "# for any sample dataset,implement order encoding for TSP"
   ]
  },
  {
   "cell_type": "code",
   "execution_count": 8,
   "metadata": {},
   "outputs": [
    {
     "name": "stdout",
     "output_type": "stream",
     "text": [
      "No. of cities 10\n",
      "Parent 1:  [1, 6, 0, 2, 3, 9, 5, 8, 4, 7]\n",
      "Parent 2:  [1, 2, 7, 8, 0, 9, 5, 3, 6, 4]\n"
     ]
    }
   ],
   "source": [
    "def tsp(n):\n",
    "    \n",
    "    p = random.sample(range(n),n)\n",
    "\n",
    "    random.shuffle(p)\n",
    "    \n",
    "    return p\n",
    "\n",
    "n_cities = int(input('No. of cities '))\n",
    "\n",
    "p1 = tsp(n_cities)\n",
    "print(\"Parent 1: \",p1)\n",
    "p2 = tsp(n_cities)\n",
    "print(\"Parent 2: \",p2)"
   ]
  },
  {
   "cell_type": "code",
   "execution_count": null,
   "metadata": {},
   "outputs": [],
   "source": []
  }
 ],
 "metadata": {
  "kernelspec": {
   "display_name": "Python 3",
   "language": "python",
   "name": "python3"
  },
  "language_info": {
   "codemirror_mode": {
    "name": "ipython",
    "version": 3
   },
   "file_extension": ".py",
   "mimetype": "text/x-python",
   "name": "python",
   "nbconvert_exporter": "python",
   "pygments_lexer": "ipython3",
   "version": "3.7.0"
  }
 },
 "nbformat": 4,
 "nbformat_minor": 4
}
